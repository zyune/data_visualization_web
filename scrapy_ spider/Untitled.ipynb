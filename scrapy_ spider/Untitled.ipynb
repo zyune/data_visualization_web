{
 "cells": [
  {
   "cell_type": "code",
   "execution_count": 6,
   "id": "304de9d8",
   "metadata": {},
   "outputs": [
    {
     "ename": "SyntaxError",
     "evalue": "invalid syntax (<ipython-input-6-e57369fdba34>, line 2)",
     "output_type": "error",
     "traceback": [
      "\u001b[0;36m  File \u001b[0;32m\"<ipython-input-6-e57369fdba34>\"\u001b[0;36m, line \u001b[0;32m2\u001b[0m\n\u001b[0;31m    scrapy shell 'https://quotes.toscrape.com/page/1/'\u001b[0m\n\u001b[0m           ^\u001b[0m\n\u001b[0;31mSyntaxError\u001b[0m\u001b[0;31m:\u001b[0m invalid syntax\n"
     ]
    }
   ],
   "source": [
    "import scrapy\n",
    "scrapy shell 'https://quotes.toscrape.com/page/1/'"
   ]
  },
  {
   "cell_type": "code",
   "execution_count": 33,
   "id": "b955dbad",
   "metadata": {},
   "outputs": [],
   "source": [
    "import scrapy\n",
    "request = scrapy.Request(\"https://quotes.toscrape.com/page/1/\")\n",
    "response = scrapy.http.response.html.HtmlResponse(\"https://quotes.toscrape.com/page/1/\")"
   ]
  },
  {
   "cell_type": "code",
   "execution_count": 34,
   "id": "4b4ff504",
   "metadata": {
    "scrolled": true
   },
   "outputs": [
    {
     "data": {
      "text/plain": [
       "['_DEFAULT_ENCODING',\n",
       " '__annotations__',\n",
       " '__class__',\n",
       " '__delattr__',\n",
       " '__dict__',\n",
       " '__dir__',\n",
       " '__doc__',\n",
       " '__eq__',\n",
       " '__format__',\n",
       " '__ge__',\n",
       " '__getattribute__',\n",
       " '__gt__',\n",
       " '__hash__',\n",
       " '__init__',\n",
       " '__init_subclass__',\n",
       " '__le__',\n",
       " '__lt__',\n",
       " '__module__',\n",
       " '__ne__',\n",
       " '__new__',\n",
       " '__reduce__',\n",
       " '__reduce_ex__',\n",
       " '__repr__',\n",
       " '__setattr__',\n",
       " '__sizeof__',\n",
       " '__slots__',\n",
       " '__str__',\n",
       " '__subclasshook__',\n",
       " '__weakref__',\n",
       " '_auto_detect_fun',\n",
       " '_body',\n",
       " '_body_declared_encoding',\n",
       " '_body_inferred_encoding',\n",
       " '_cached_benc',\n",
       " '_cached_decoded_json',\n",
       " '_cached_selector',\n",
       " '_cached_ubody',\n",
       " '_declared_encoding',\n",
       " '_encoding',\n",
       " '_get_body',\n",
       " '_get_url',\n",
       " '_headers_encoding',\n",
       " '_set_body',\n",
       " '_set_url',\n",
       " '_url',\n",
       " 'attributes',\n",
       " 'body',\n",
       " 'cb_kwargs',\n",
       " 'certificate',\n",
       " 'copy',\n",
       " 'css',\n",
       " 'encoding',\n",
       " 'flags',\n",
       " 'follow',\n",
       " 'follow_all',\n",
       " 'headers',\n",
       " 'ip_address',\n",
       " 'json',\n",
       " 'meta',\n",
       " 'protocol',\n",
       " 'replace',\n",
       " 'request',\n",
       " 'selector',\n",
       " 'status',\n",
       " 'text',\n",
       " 'url',\n",
       " 'urljoin',\n",
       " 'xpath']"
      ]
     },
     "execution_count": 34,
     "metadata": {},
     "output_type": "execute_result"
    }
   ],
   "source": [
    "dir(response)\n"
   ]
  },
  {
   "cell_type": "code",
   "execution_count": 37,
   "id": "b46b8a25",
   "metadata": {},
   "outputs": [],
   "source": [
    "a=response.css('title::text').getall()"
   ]
  },
  {
   "cell_type": "code",
   "execution_count": 38,
   "id": "5fdfcad2",
   "metadata": {},
   "outputs": [
    {
     "name": "stdout",
     "output_type": "stream",
     "text": [
      "[]\n"
     ]
    }
   ],
   "source": [
    "print(a)"
   ]
  }
 ],
 "metadata": {
  "kernelspec": {
   "display_name": "Python 3",
   "language": "python",
   "name": "python3"
  },
  "language_info": {
   "codemirror_mode": {
    "name": "ipython",
    "version": 3
   },
   "file_extension": ".py",
   "mimetype": "text/x-python",
   "name": "python",
   "nbconvert_exporter": "python",
   "pygments_lexer": "ipython3",
   "version": "3.8.8"
  }
 },
 "nbformat": 4,
 "nbformat_minor": 5
}
