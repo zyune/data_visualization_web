{
 "cells": [
  {
   "cell_type": "code",
   "execution_count": 2,
   "id": "e45b46ef",
   "metadata": {},
   "outputs": [],
   "source": [
    "import pandas as pd"
   ]
  },
  {
   "cell_type": "code",
   "execution_count": 52,
   "id": "29572728",
   "metadata": {},
   "outputs": [],
   "source": [
    "\n",
    "\n",
    "\n",
    "from bs4 import BeautifulSoup\n",
    "with open(\"aaa.html\") as fp:\n",
    "    soup = BeautifulSoup(fp, 'html.parser')\n",
    "\n"
   ]
  },
  {
   "cell_type": "code",
   "execution_count": 56,
   "id": "9c142f12",
   "metadata": {},
   "outputs": [
    {
     "name": "stdout",
     "output_type": "stream",
     "text": [
      "<address class=\"list-card-addr\">596 Preble St APT 1, Cape Elizabeth, ME 04107</address>\n",
      "<address class=\"list-card-addr\">124 Emery St #1, Portland, ME 04102</address>\n",
      "<address class=\"list-card-addr\">(undisclosed Address), South Portland, ME 04106</address>\n",
      "<address class=\"list-card-addr\">104 Cumberland Ave APT 1, Portland, ME 04101</address>\n",
      "<address class=\"list-card-addr\">7 Taylor St #3, Portland, ME 04102</address>\n",
      "<address class=\"list-card-addr\">271 Brackett St #2, Portland, ME 04102</address>\n",
      "<address class=\"list-card-addr\">69 Myrtle St #2, Westbrook, ME 04092</address>\n",
      "<address class=\"list-card-addr\">290 Baxter Blvd APT G3, Portland, ME 04101</address>\n",
      "<address class=\"list-card-addr\">(undisclosed Address), Portland, ME 04103</address>\n"
     ]
    }
   ],
   "source": [
    "for address in soup.find_all('address', {'class' : 'list-card-addr'}):\n",
    "    print(address)"
   ]
  },
  {
   "cell_type": "code",
   "execution_count": 51,
   "id": "8dd3810f",
   "metadata": {},
   "outputs": [
    {
     "name": "stdout",
     "output_type": "stream",
     "text": [
      "Fourrunner.json       __init__.py           quotes-1.html\r\n",
      "Fourrunner_spider.py  \u001b[1m\u001b[36m__pycache__\u001b[m\u001b[m/          quotes-2.html\r\n",
      "Untitled.ipynb        aaa\r\n"
     ]
    }
   ],
   "source": []
  }
 ],
 "metadata": {
  "kernelspec": {
   "display_name": "Python 3",
   "language": "python",
   "name": "python3"
  },
  "language_info": {
   "codemirror_mode": {
    "name": "ipython",
    "version": 3
   },
   "file_extension": ".py",
   "mimetype": "text/x-python",
   "name": "python",
   "nbconvert_exporter": "python",
   "pygments_lexer": "ipython3",
   "version": "3.8.8"
  }
 },
 "nbformat": 4,
 "nbformat_minor": 5
}
