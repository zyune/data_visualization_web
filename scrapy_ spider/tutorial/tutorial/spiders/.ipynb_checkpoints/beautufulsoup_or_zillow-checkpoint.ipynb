{
 "cells": [
  {
   "cell_type": "code",
   "execution_count": 2,
   "id": "fc5435ed",
   "metadata": {},
   "outputs": [],
   "source": [
    "import pandas as pd"
   ]
  },
  {
   "cell_type": "code",
   "execution_count": 50,
   "id": "98e3f7e5",
   "metadata": {},
   "outputs": [
    {
     "ename": "FileNotFoundError",
     "evalue": "[Errno 2] No such file or directory: 'file:///Users/mac/data_visualization_web/portland_maine/tutorial/tutorial/spiders/Rental%20Listings%20-%2060%20Rentals%20%7C%20Zillow.html'",
     "output_type": "error",
     "traceback": [
      "\u001b[0;31m---------------------------------------------------------------------------\u001b[0m",
      "\u001b[0;31mFileNotFoundError\u001b[0m                         Traceback (most recent call last)",
      "\u001b[0;32m<ipython-input-50-3cc208e21368>\u001b[0m in \u001b[0;36m<module>\u001b[0;34m\u001b[0m\n\u001b[1;32m      1\u001b[0m \u001b[0;32mfrom\u001b[0m \u001b[0mbs4\u001b[0m \u001b[0;32mimport\u001b[0m \u001b[0mBeautifulSoup\u001b[0m\u001b[0;34m\u001b[0m\u001b[0;34m\u001b[0m\u001b[0m\n\u001b[0;32m----> 2\u001b[0;31m \u001b[0;32mwith\u001b[0m \u001b[0mopen\u001b[0m\u001b[0;34m(\u001b[0m\u001b[0;34m\"file:///Users/mac/data_visualization_web/portland_maine/tutorial/tutorial/spiders/Rental%20Listings%20-%2060%20Rentals%20%7C%20Zillow.html\"\u001b[0m\u001b[0;34m)\u001b[0m \u001b[0;32mas\u001b[0m \u001b[0mfp\u001b[0m\u001b[0;34m:\u001b[0m\u001b[0;34m\u001b[0m\u001b[0;34m\u001b[0m\u001b[0m\n\u001b[0m\u001b[1;32m      3\u001b[0m     \u001b[0msoup\u001b[0m \u001b[0;34m=\u001b[0m \u001b[0mBeautifulSoup\u001b[0m\u001b[0;34m(\u001b[0m\u001b[0mfp\u001b[0m\u001b[0;34m,\u001b[0m \u001b[0;34m'html.parser'\u001b[0m\u001b[0;34m)\u001b[0m\u001b[0;34m\u001b[0m\u001b[0;34m\u001b[0m\u001b[0m\n\u001b[1;32m      4\u001b[0m \u001b[0;34m\u001b[0m\u001b[0m\n",
      "\u001b[0;31mFileNotFoundError\u001b[0m: [Errno 2] No such file or directory: 'file:///Users/mac/data_visualization_web/portland_maine/tutorial/tutorial/spiders/Rental%20Listings%20-%2060%20Rentals%20%7C%20Zillow.html'"
     ]
    }
   ],
   "source": [
    "\n",
    "\n",
    "\n",
    "from bs4 import BeautifulSoup\n",
    "with open(\"aaa.html\") as fp:\n",
    "    soup = BeautifulSoup(fp, 'html.parser')\n",
    "\n"
   ]
  },
  {
   "cell_type": "code",
   "execution_count": 49,
   "id": "f22408e6",
   "metadata": {},
   "outputs": [],
   "source": [
    "for address in soup.find_all('address', {'class' : 'list-card-addr'}):\n",
    "    print(address)"
   ]
  },
  {
   "cell_type": "code",
   "execution_count": 51,
   "id": "82ebd113",
   "metadata": {},
   "outputs": [
    {
     "name": "stdout",
     "output_type": "stream",
     "text": [
      "Fourrunner.json       __init__.py           quotes-1.html\r\n",
      "Fourrunner_spider.py  \u001b[1m\u001b[36m__pycache__\u001b[m\u001b[m/          quotes-2.html\r\n",
      "Untitled.ipynb        aaa\r\n"
     ]
    }
   ],
   "source": []
  }
 ],
 "metadata": {
  "kernelspec": {
   "display_name": "Python 3",
   "language": "python",
   "name": "python3"
  },
  "language_info": {
   "codemirror_mode": {
    "name": "ipython",
    "version": 3
   },
   "file_extension": ".py",
   "mimetype": "text/x-python",
   "name": "python",
   "nbconvert_exporter": "python",
   "pygments_lexer": "ipython3",
   "version": "3.8.8"
  }
 },
 "nbformat": 4,
 "nbformat_minor": 5
}
