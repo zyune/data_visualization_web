{
 "cells": [
  {
   "cell_type": "code",
   "execution_count": 2,
   "id": "ab7176f8",
   "metadata": {},
   "outputs": [],
   "source": [
    "import pandas as pd"
   ]
  },
  {
   "cell_type": "code",
   "execution_count": 38,
   "id": "a76d0cb8",
   "metadata": {},
   "outputs": [],
   "source": [
    "fourrunner=pd.read_json('https://raw.githubusercontent.com/zyune/data_visualization_web/master/scrapy_%20spider/tutorial/tutorial/spiders/Fourrunner.json',\n",
    "                        dtype={'price':float,'millage':float})\n",
    "\n",
    "\n",
    "\n",
    "\n",
    "\n"
   ]
  },
  {
   "cell_type": "code",
   "execution_count": 41,
   "id": "d9d06af0",
   "metadata": {},
   "outputs": [
    {
     "data": {
      "text/html": [
       "<div>\n",
       "<style scoped>\n",
       "    .dataframe tbody tr th:only-of-type {\n",
       "        vertical-align: middle;\n",
       "    }\n",
       "\n",
       "    .dataframe tbody tr th {\n",
       "        vertical-align: top;\n",
       "    }\n",
       "\n",
       "    .dataframe thead th {\n",
       "        text-align: right;\n",
       "    }\n",
       "</style>\n",
       "<table border=\"1\" class=\"dataframe\">\n",
       "  <thead>\n",
       "    <tr style=\"text-align: right;\">\n",
       "      <th></th>\n",
       "      <th>name</th>\n",
       "      <th>price</th>\n",
       "      <th>millage</th>\n",
       "      <th>link</th>\n",
       "    </tr>\n",
       "  </thead>\n",
       "  <tbody>\n",
       "    <tr>\n",
       "      <th>0</th>\n",
       "      <td>2018 Toyota 4Runner Limited</td>\n",
       "      <td>43,990</td>\n",
       "      <td>39,685.</td>\n",
       "      <td>https://www.cars.com/vehicledetail/59f0ccdb-44...</td>\n",
       "    </tr>\n",
       "    <tr>\n",
       "      <th>1</th>\n",
       "      <td>2018 Toyota 4Runner Limited</td>\n",
       "      <td>43,000</td>\n",
       "      <td>47,169.</td>\n",
       "      <td>https://www.cars.com/vehicledetail/627c364c-84...</td>\n",
       "    </tr>\n",
       "    <tr>\n",
       "      <th>2</th>\n",
       "      <td>2018 Toyota 4Runner Limited</td>\n",
       "      <td>40,998</td>\n",
       "      <td>63,270.</td>\n",
       "      <td>https://www.cars.com/vehicledetail/e0eab589-da...</td>\n",
       "    </tr>\n",
       "    <tr>\n",
       "      <th>3</th>\n",
       "      <td>2018 Toyota 4Runner Limited</td>\n",
       "      <td>43,850</td>\n",
       "      <td>48,030.</td>\n",
       "      <td>https://www.cars.com/vehicledetail/be1ed83f-62...</td>\n",
       "    </tr>\n",
       "    <tr>\n",
       "      <th>4</th>\n",
       "      <td>2018 Toyota 4Runner Limited</td>\n",
       "      <td>44,029</td>\n",
       "      <td>60,285.</td>\n",
       "      <td>https://www.cars.com/vehicledetail/52585152-eb...</td>\n",
       "    </tr>\n",
       "    <tr>\n",
       "      <th>...</th>\n",
       "      <td>...</td>\n",
       "      <td>...</td>\n",
       "      <td>...</td>\n",
       "      <td>...</td>\n",
       "    </tr>\n",
       "    <tr>\n",
       "      <th>1481</th>\n",
       "      <td>2018 Toyota 4Runner SR5</td>\n",
       "      <td>43,982</td>\n",
       "      <td>19,871.</td>\n",
       "      <td>https://www.cars.com/vehicledetail/0093d24a-cf...</td>\n",
       "    </tr>\n",
       "    <tr>\n",
       "      <th>1482</th>\n",
       "      <td>2018 Toyota 4Runner Limited</td>\n",
       "      <td>45,982</td>\n",
       "      <td>42,378.</td>\n",
       "      <td>https://www.cars.com/vehicledetail/ebbcacf3-8b...</td>\n",
       "    </tr>\n",
       "    <tr>\n",
       "      <th>1483</th>\n",
       "      <td>2018 Toyota 4Runner SR5 Premium</td>\n",
       "      <td>38,887</td>\n",
       "      <td>74,395.</td>\n",
       "      <td>https://www.cars.com/vehicledetail/2ff95e0f-ea...</td>\n",
       "    </tr>\n",
       "    <tr>\n",
       "      <th>1484</th>\n",
       "      <td>2018 Toyota 4Runner SR5 4WD</td>\n",
       "      <td>40,271</td>\n",
       "      <td>56,261.</td>\n",
       "      <td>https://www.cars.com/vehicledetail/efe5f21d-7a...</td>\n",
       "    </tr>\n",
       "    <tr>\n",
       "      <th>1485</th>\n",
       "      <td>2018 Toyota 4Runner Sport</td>\n",
       "      <td>41,991</td>\n",
       "      <td>53,459.</td>\n",
       "      <td>https://www.cars.com/vehicledetail/24fb51e3-10...</td>\n",
       "    </tr>\n",
       "  </tbody>\n",
       "</table>\n",
       "<p>1486 rows × 4 columns</p>\n",
       "</div>"
      ],
      "text/plain": [
       "                                 name   price  millage  \\\n",
       "0         2018 Toyota 4Runner Limited  43,990  39,685.   \n",
       "1         2018 Toyota 4Runner Limited  43,000  47,169.   \n",
       "2         2018 Toyota 4Runner Limited  40,998  63,270.   \n",
       "3         2018 Toyota 4Runner Limited  43,850  48,030.   \n",
       "4         2018 Toyota 4Runner Limited  44,029  60,285.   \n",
       "...                               ...     ...      ...   \n",
       "1481          2018 Toyota 4Runner SR5  43,982  19,871.   \n",
       "1482      2018 Toyota 4Runner Limited  45,982  42,378.   \n",
       "1483  2018 Toyota 4Runner SR5 Premium  38,887  74,395.   \n",
       "1484      2018 Toyota 4Runner SR5 4WD  40,271  56,261.   \n",
       "1485        2018 Toyota 4Runner Sport  41,991  53,459.   \n",
       "\n",
       "                                                   link  \n",
       "0     https://www.cars.com/vehicledetail/59f0ccdb-44...  \n",
       "1     https://www.cars.com/vehicledetail/627c364c-84...  \n",
       "2     https://www.cars.com/vehicledetail/e0eab589-da...  \n",
       "3     https://www.cars.com/vehicledetail/be1ed83f-62...  \n",
       "4     https://www.cars.com/vehicledetail/52585152-eb...  \n",
       "...                                                 ...  \n",
       "1481  https://www.cars.com/vehicledetail/0093d24a-cf...  \n",
       "1482  https://www.cars.com/vehicledetail/ebbcacf3-8b...  \n",
       "1483  https://www.cars.com/vehicledetail/2ff95e0f-ea...  \n",
       "1484  https://www.cars.com/vehicledetail/efe5f21d-7a...  \n",
       "1485  https://www.cars.com/vehicledetail/24fb51e3-10...  \n",
       "\n",
       "[1486 rows x 4 columns]"
      ]
     },
     "execution_count": 41,
     "metadata": {},
     "output_type": "execute_result"
    }
   ],
   "source": [
    "fourrunner"
   ]
  },
  {
   "cell_type": "code",
   "execution_count": 40,
   "id": "8652e2d1",
   "metadata": {},
   "outputs": [
    {
     "data": {
      "text/plain": [
       "dtype('O')"
      ]
     },
     "execution_count": 40,
     "metadata": {},
     "output_type": "execute_result"
    }
   ],
   "source": [
    "fourrunner['price'].dtype"
   ]
  }
 ],
 "metadata": {
  "kernelspec": {
   "display_name": "Python 3",
   "language": "python",
   "name": "python3"
  },
  "language_info": {
   "codemirror_mode": {
    "name": "ipython",
    "version": 3
   },
   "file_extension": ".py",
   "mimetype": "text/x-python",
   "name": "python",
   "nbconvert_exporter": "python",
   "pygments_lexer": "ipython3",
   "version": "3.8.8"
  }
 },
 "nbformat": 4,
 "nbformat_minor": 5
}
